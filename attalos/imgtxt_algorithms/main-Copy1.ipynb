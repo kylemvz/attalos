{
 "cells": [
  {
   "cell_type": "code",
   "execution_count": 1,
   "metadata": {
    "collapsed": false
   },
   "outputs": [],
   "source": [
    "from attalos.imgtxt_algorithms.main import *"
   ]
  },
  {
   "cell_type": "code",
   "execution_count": 2,
   "metadata": {
    "collapsed": true
   },
   "outputs": [],
   "source": [
    "# Temp object using duck typing to replace command line arguments\n",
    "args = lambda: None\n",
    "\n",
    "\"\"\"args.image_feature_file_train = \"/local_data/teams/attalos/features/image/yfcc0_train_20160831_inception.hdf5\"\n",
    "args.text_feature_file_train = \"/local_data/teams/attalos/features/text/yfcc0_train_20160831_text.json.gz\"\n",
    "args.image_feature_file_test = \"/local_data/teams/attalos/features/image/yfcc0_train_20160831_inception.hdf5\"\n",
    "args.text_feature_file_test = \"/local_data/teams/attalos/features/text/yfcc0_train_20160831_text.json.gz\"\n",
    "\"\"\"\n",
    "\n",
    "args.image_feature_file_train = \"/local_data/teams/attalos/features/image/iaprtc_train_20160816_inception.hdf5\"\n",
    "args.text_feature_file_train = \"/local_data/teams/attalos/features/text/iaprtc_train_20160816_text.json.gz\"\n",
    "args.image_feature_file_test = \"/local_data/teams/attalos/features/image/iaprtc_test_20160816_inception.hdf5\"\n",
    "args.text_feature_file_test = \"/local_data/teams/attalos/features/text/iaprtc_test_20160816_text.json.gz\"\n",
    "\n",
    "#args.word_vector_file = \"/data/fs4/teams/attalos/wordvecs/text9Bvin.bin\"\n",
    "args.word_vector_file = \"/local_data/kni/data/vectors-phrase.bin\"\n",
    "args.word_vector_type = \"w2v\" # \"glove\"\n",
    "\n",
    "args.model_type = \"yfccjoint\" #\"negsampling\" #\"wdv\" #\"naivesum\" #\"multihot\"\n",
    "args.cross_eval = False\n",
    "args.in_memory = True\n",
    "args.model_input_path = None\n",
    "args.model_output_path = None\n",
    "args.num_epochs = 5000\n",
    "args.batch_size = 100\n",
    "args.learning_rate = 0.0001\n",
    "args.verbose_eval = True\n",
    "args.epoch_verbosity = 10\n",
    "args.optim_words = True"
   ]
  },
  {
   "cell_type": "code",
   "execution_count": 3,
   "metadata": {
    "collapsed": false,
    "scrolled": true
   },
   "outputs": [
    {
     "name": "stderr",
     "output_type": "stream",
     "text": [
      "[2016-09-23 19:54:28,131] [INFO] Parsing train and test datasets.\n",
      "[2016-09-23 19:54:28,132] [INFO] Loading image features...\n",
      "[2016-09-23 19:54:28,133] [INFO] Reading h5py file.\n",
      "[2016-09-23 19:54:28,134] [INFO] Loading image feats.\n",
      "[2016-09-23 19:54:28,250] [INFO] Elapsed time: 0.116657018661\n",
      "[2016-09-23 19:54:28,251] [INFO] Getting length of first feature vector.\n",
      "[2016-09-23 19:54:28,252] [INFO] Num images: 17665\n",
      "[2016-09-23 19:54:28,252] [INFO] Loading text features...\n",
      "[2016-09-23 19:54:28,253] [INFO] Loading json from file (timing).\n",
      "[2016-09-23 19:54:28,407] [INFO] Time elapsed: 0.1537129879\n"
     ]
    }
   ],
   "source": [
    "logger.info(\"Parsing train and test datasets.\")\n",
    "train_dataset = Dataset(args.image_feature_file_train, args.text_feature_file_train, load_image_feats_in_mem=args.in_memory)\n",
    "test_dataset = train_dataset\n",
    "#test_dataset = Dataset(args.image_feature_file_test, args.text_feature_file_test, load_image_feats_in_mem=args.in_memory)"
   ]
  },
  {
   "cell_type": "code",
   "execution_count": 4,
   "metadata": {
    "collapsed": false
   },
   "outputs": [
    {
     "name": "stderr",
     "output_type": "stream",
     "text": [
      "[2016-09-23 19:54:28,412] [INFO] Reading word vectors from file.\n"
     ]
    }
   ],
   "source": [
    "logger.info(\"Reading word vectors from file.\")\n",
    "wv_model = load_wv_model(args.word_vector_file, args.word_vector_type)"
   ]
  },
  {
   "cell_type": "code",
   "execution_count": 5,
   "metadata": {
    "collapsed": false
   },
   "outputs": [],
   "source": [
    "#sess.close()"
   ]
  },
  {
   "cell_type": "markdown",
   "metadata": {},
   "source": [
    "---"
   ]
  },
  {
   "cell_type": "code",
   "execution_count": 6,
   "metadata": {
    "collapsed": true
   },
   "outputs": [],
   "source": [
    "config = tf.ConfigProto()\n",
    "config.gpu_options.allow_growth = True\n",
    "sess = tf.InteractiveSession(config=config)"
   ]
  },
  {
   "cell_type": "code",
   "execution_count": 7,
   "metadata": {
    "collapsed": false,
    "scrolled": true
   },
   "outputs": [
    {
     "name": "stderr",
     "output_type": "stream",
     "text": [
      "[2016-09-23 19:54:41,188] [INFO] Selecting model class: YFCCJointNegSamplingModel\n",
      "[2016-09-23 19:54:42,364] [INFO] Constructing model info.\n",
      "[2016-09-23 19:54:42,369] [INFO] Optimization on GPU, word vectors are stored separately.\n"
     ]
    }
   ],
   "source": [
    "model_cls = ModelTypes[args.model_type].value\n",
    "logger.info(\"Selecting model class: %s\" % model_cls.__name__)\n",
    "datasets = [train_dataset] if args.cross_eval else [train_dataset, test_dataset]\n",
    "model = model_cls(wv_model, datasets, **vars(args))\n",
    "model.initialize_model(sess)"
   ]
  },
  {
   "cell_type": "code",
   "execution_count": 8,
   "metadata": {
    "collapsed": false
   },
   "outputs": [
    {
     "name": "stderr",
     "output_type": "stream",
     "text": [
      "[2016-09-23 19:54:43,235] [INFO] Preparing test_dataset.\n",
      "[2016-09-23 19:54:43,355] [INFO] Allocating space for text feature matrix.\n",
      "[2016-09-23 19:54:43,364] [INFO] Done allocating.\n",
      "[2016-09-23 19:54:43,364] [INFO] Starting prep_predict loop.\n",
      "[2016-09-23 19:54:43,646] [INFO] 0 of 17665 completed (prep_predict).\n"
     ]
    }
   ],
   "source": [
    "logger.info(\"Preparing test_dataset.\")\n",
    "fetches, feed_dict, truth = model.prep_predict(test_dataset)"
   ]
  },
  {
   "cell_type": "code",
   "execution_count": 9,
   "metadata": {
    "collapsed": false
   },
   "outputs": [
    {
     "name": "stderr",
     "output_type": "stream",
     "text": [
      "[2016-09-23 19:54:44,299] [INFO] Starting training phase.\n",
      "[2016-09-23 19:54:47,407] [DEBUG] Finished epoch 0. (Avg. training loss: 1.19261980937)\n",
      "[2016-09-23 19:54:48,192] [DEBUG] Evaluation (precision, recall, f1): [0.13823898586248207, 0.14938609436405936, 0.10713585962277707]\n",
      "[2016-09-23 19:55:17,127] [DEBUG] Finished epoch 10. (Avg. training loss: 0.841832520948)\n",
      "/opt/conda/envs/python2/lib/python2.7/site-packages/sklearn/metrics/classification.py:1074: UndefinedMetricWarning: Precision is ill-defined and being set to 0.0 in labels with no predicted samples.\n",
      "  'precision', 'predicted', average, warn_for)\n",
      "/opt/conda/envs/python2/lib/python2.7/site-packages/sklearn/metrics/classification.py:1074: UndefinedMetricWarning: F-score is ill-defined and being set to 0.0 in labels with no predicted samples.\n",
      "  'precision', 'predicted', average, warn_for)\n",
      "[2016-09-23 19:55:17,913] [DEBUG] Evaluation (precision, recall, f1): [0.29557892328204438, 0.26844862185070489, 0.18618369974531651]\n",
      "[2016-09-23 19:55:47,199] [DEBUG] Finished epoch 20. (Avg. training loss: 0.809071335264)\n",
      "[2016-09-23 19:55:47,968] [DEBUG] Evaluation (precision, recall, f1): [0.30346657669660881, 0.32401866438172194, 0.23257536848982274]\n",
      "[2016-09-23 19:56:16,846] [DEBUG] Finished epoch 30. (Avg. training loss: 0.776038373397)\n",
      "[2016-09-23 19:56:17,646] [DEBUG] Evaluation (precision, recall, f1): [0.3088273314540122, 0.35573826925522389, 0.2537132291941725]\n",
      "[2016-09-23 19:56:46,274] [DEBUG] Finished epoch 40. (Avg. training loss: 0.759485281327)\n",
      "[2016-09-23 19:56:47,071] [DEBUG] Evaluation (precision, recall, f1): [0.31478666206284561, 0.37006251275063001, 0.27054223596734861]\n",
      "[2016-09-23 19:57:15,543] [DEBUG] Finished epoch 50. (Avg. training loss: 0.739061411809)\n",
      "[2016-09-23 19:57:16,270] [DEBUG] Evaluation (precision, recall, f1): [0.32507014550808783, 0.3803870872006539, 0.28125860253757529]\n",
      "[2016-09-23 19:57:44,513] [DEBUG] Finished epoch 60. (Avg. training loss: 0.727105482735)\n",
      "[2016-09-23 19:57:45,232] [DEBUG] Evaluation (precision, recall, f1): [0.32844976523819608, 0.39131929021477596, 0.28832693640246276]\n",
      "[2016-09-23 19:58:13,647] [DEBUG] Finished epoch 70. (Avg. training loss: 0.714190366593)\n",
      "[2016-09-23 19:58:14,362] [DEBUG] Evaluation (precision, recall, f1): [0.33947827157827332, 0.40059374870269021, 0.30004680770676839]\n",
      "[2016-09-23 19:58:42,768] [DEBUG] Finished epoch 80. (Avg. training loss: 0.701263408769)\n",
      "[2016-09-23 19:58:43,525] [DEBUG] Evaluation (precision, recall, f1): [0.34311182128732193, 0.40858408877892788, 0.30379604402476995]\n",
      "[2016-09-23 19:59:11,866] [DEBUG] Finished epoch 90. (Avg. training loss: 0.69124875387)\n",
      "[2016-09-23 19:59:12,618] [DEBUG] Evaluation (precision, recall, f1): [0.35045271547345086, 0.41163738001286154, 0.31035449135584681]\n",
      "[2016-09-23 19:59:41,026] [DEBUG] Finished epoch 100. (Avg. training loss: 0.683435849507)\n",
      "[2016-09-23 19:59:41,761] [DEBUG] Evaluation (precision, recall, f1): [0.35857192042298014, 0.41679012544781957, 0.31922274227633957]\n",
      "[2016-09-23 20:00:10,277] [DEBUG] Finished epoch 110. (Avg. training loss: 0.673787019808)\n",
      "[2016-09-23 20:00:11,003] [DEBUG] Evaluation (precision, recall, f1): [0.361812880451995, 0.42443494492607003, 0.32053738554201078]\n",
      "[2016-09-23 20:00:39,750] [DEBUG] Finished epoch 120. (Avg. training loss: 0.670086137612)\n",
      "[2016-09-23 20:00:40,478] [DEBUG] Evaluation (precision, recall, f1): [0.36631165231607465, 0.42373342126235858, 0.3268880402312942]\n",
      "[2016-09-23 20:01:09,271] [DEBUG] Finished epoch 130. (Avg. training loss: 0.663073356179)\n",
      "[2016-09-23 20:01:10,111] [DEBUG] Evaluation (precision, recall, f1): [0.36703432121812829, 0.42859621752965277, 0.33304340655039283]\n",
      "[2016-09-23 20:01:38,845] [DEBUG] Finished epoch 140. (Avg. training loss: 0.658135555346)\n",
      "[2016-09-23 20:01:39,577] [DEBUG] Evaluation (precision, recall, f1): [0.37034455508128805, 0.43431579298766221, 0.33369182045349599]\n",
      "[2016-09-23 20:02:08,209] [DEBUG] Finished epoch 150. (Avg. training loss: 0.643434065648)\n",
      "[2016-09-23 20:02:08,921] [DEBUG] Evaluation (precision, recall, f1): [0.37292656272481683, 0.43440082030813237, 0.3394812396402872]\n",
      "[2016-09-23 20:02:37,354] [DEBUG] Finished epoch 160. (Avg. training loss: 0.637979655442)\n",
      "[2016-09-23 20:02:38,080] [DEBUG] Evaluation (precision, recall, f1): [0.37244644556281081, 0.43916406412396963, 0.33860823403876772]\n",
      "[2016-09-23 20:03:06,594] [DEBUG] Finished epoch 170. (Avg. training loss: 0.637534911998)\n",
      "[2016-09-23 20:03:07,315] [DEBUG] Evaluation (precision, recall, f1): [0.38222159763524083, 0.43900422987326376, 0.34744069786398124]\n",
      "[2016-09-23 20:03:35,951] [DEBUG] Finished epoch 180. (Avg. training loss: 0.63499222899)\n",
      "[2016-09-23 20:03:36,667] [DEBUG] Evaluation (precision, recall, f1): [0.38251988922595709, 0.44771316289510338, 0.35288747251740948]\n",
      "[2016-09-23 20:04:05,185] [DEBUG] Finished epoch 190. (Avg. training loss: 0.637953483246)\n",
      "[2016-09-23 20:04:05,947] [DEBUG] Evaluation (precision, recall, f1): [0.37727088292512406, 0.455258948403165, 0.35826872951227734]\n",
      "[2016-09-23 20:04:34,244] [DEBUG] Finished epoch 200. (Avg. training loss: 0.629755991765)\n",
      "[2016-09-23 20:04:34,955] [DEBUG] Evaluation (precision, recall, f1): [0.38228988720956014, 0.4544470850274071, 0.35989097370117273]\n",
      "[2016-09-23 20:05:03,405] [DEBUG] Finished epoch 210. (Avg. training loss: 0.623285306448)\n",
      "[2016-09-23 20:05:04,145] [DEBUG] Evaluation (precision, recall, f1): [0.38748548971553781, 0.45502508121671753, 0.35674902227137323]\n",
      "[2016-09-23 20:05:32,523] [DEBUG] Finished epoch 220. (Avg. training loss: 0.616215364838)\n",
      "[2016-09-23 20:05:33,302] [DEBUG] Evaluation (precision, recall, f1): [0.3828912310932257, 0.46487748928105027, 0.36360027330383793]\n",
      "[2016-09-23 20:06:01,474] [DEBUG] Finished epoch 230. (Avg. training loss: 0.624707480046)\n",
      "[2016-09-23 20:06:02,184] [DEBUG] Evaluation (precision, recall, f1): [0.38473214917238363, 0.45938958657496864, 0.36648607398662264]\n",
      "[2016-09-23 20:06:30,377] [DEBUG] Finished epoch 240. (Avg. training loss: 0.635657945479)\n",
      "[2016-09-23 20:06:31,124] [DEBUG] Evaluation (precision, recall, f1): [0.3970354872511701, 0.45494980820882969, 0.3722556545583075]\n",
      "[2016-09-23 20:06:59,894] [DEBUG] Finished epoch 250. (Avg. training loss: 0.645365643569)\n",
      "[2016-09-23 20:07:00,612] [DEBUG] Evaluation (precision, recall, f1): [0.3910801734948442, 0.45641546381356524, 0.36931709557341635]\n",
      "[2016-09-23 20:07:29,091] [DEBUG] Finished epoch 260. (Avg. training loss: 0.650356192142)\n",
      "[2016-09-23 20:07:29,850] [DEBUG] Evaluation (precision, recall, f1): [0.39236611804988147, 0.45380403802235503, 0.37101370016122565]\n",
      "[2016-09-23 20:07:58,152] [DEBUG] Finished epoch 270. (Avg. training loss: 0.629383898594)\n",
      "[2016-09-23 20:07:58,911] [DEBUG] Evaluation (precision, recall, f1): [0.39226243963604546, 0.46057397126445643, 0.3700462341125757]\n",
      "[2016-09-23 20:08:27,234] [DEBUG] Finished epoch 280. (Avg. training loss: 0.61794254624)\n",
      "[2016-09-23 20:08:28,020] [DEBUG] Evaluation (precision, recall, f1): [0.3912737937191777, 0.46515216109611729, 0.37041643145306874]\n",
      "[2016-09-23 20:08:56,891] [DEBUG] Finished epoch 290. (Avg. training loss: 0.610185381025)\n",
      "[2016-09-23 20:08:57,601] [DEBUG] Evaluation (precision, recall, f1): [0.39846991919921504, 0.4618576828453842, 0.37340120604161547]\n",
      "[2016-09-23 20:09:25,699] [DEBUG] Finished epoch 300. (Avg. training loss: 0.591022344137)\n",
      "[2016-09-23 20:09:26,423] [DEBUG] Evaluation (precision, recall, f1): [0.39153139541715631, 0.47308904681950953, 0.3749208071071492]\n",
      "[2016-09-23 20:09:54,613] [DEBUG] Finished epoch 310. (Avg. training loss: 0.608426311815)\n",
      "[2016-09-23 20:09:55,380] [DEBUG] Evaluation (precision, recall, f1): [0.40192789903165288, 0.46301004518422484, 0.37520199986818698]\n",
      "[2016-09-23 20:10:23,739] [DEBUG] Finished epoch 320. (Avg. training loss: 0.603408077901)\n",
      "[2016-09-23 20:10:24,465] [DEBUG] Evaluation (precision, recall, f1): [0.40336294477137136, 0.46740837565549931, 0.37808741548801811]\n",
      "[2016-09-23 20:10:52,922] [DEBUG] Finished epoch 330. (Avg. training loss: 0.614556823942)\n",
      "[2016-09-23 20:10:53,647] [DEBUG] Evaluation (precision, recall, f1): [0.40242447420999367, 0.47355886984708306, 0.38073213930752547]\n",
      "[2016-09-23 20:11:22,066] [DEBUG] Finished epoch 340. (Avg. training loss: 0.607818363065)\n",
      "[2016-09-23 20:11:22,856] [DEBUG] Evaluation (precision, recall, f1): [0.4010429703757562, 0.46934983421531906, 0.37549108914659141]\n",
      "[2016-09-23 20:11:51,370] [DEBUG] Finished epoch 350. (Avg. training loss: 0.606117191978)\n",
      "[2016-09-23 20:11:52,128] [DEBUG] Evaluation (precision, recall, f1): [0.40304394233308799, 0.46542946967738202, 0.37831337198155546]\n",
      "[2016-09-23 20:12:20,538] [DEBUG] Finished epoch 360. (Avg. training loss: 0.58922182904)\n",
      "[2016-09-23 20:12:21,277] [DEBUG] Evaluation (precision, recall, f1): [0.40589477689338793, 0.4712061063422453, 0.38357400286443422]\n",
      "[2016-09-23 20:12:49,640] [DEBUG] Finished epoch 370. (Avg. training loss: 0.584281233901)\n",
      "[2016-09-23 20:12:50,361] [DEBUG] Evaluation (precision, recall, f1): [0.40890233808740412, 0.47746016858426732, 0.38659794539074416]\n",
      "[2016-09-23 20:13:19,371] [DEBUG] Finished epoch 380. (Avg. training loss: 0.585306289521)\n",
      "[2016-09-23 20:13:20,157] [DEBUG] Evaluation (precision, recall, f1): [0.40840119508172362, 0.47680305788711219, 0.39263525750662781]\n",
      "[2016-09-23 20:13:48,544] [DEBUG] Finished epoch 390. (Avg. training loss: 0.595036534762)\n",
      "[2016-09-23 20:13:49,345] [DEBUG] Evaluation (precision, recall, f1): [0.40607562864108027, 0.47890094963349839, 0.38847640269029982]\n",
      "[2016-09-23 20:14:18,040] [DEBUG] Finished epoch 400. (Avg. training loss: 0.599624100734)\n",
      "[2016-09-23 20:14:18,816] [DEBUG] Evaluation (precision, recall, f1): [0.41108290301734229, 0.47901257388112151, 0.39489503609408177]\n",
      "[2016-09-23 20:14:47,168] [DEBUG] Finished epoch 410. (Avg. training loss: 0.600845658305)\n",
      "[2016-09-23 20:14:47,913] [DEBUG] Evaluation (precision, recall, f1): [0.41386289229114825, 0.47248997157493211, 0.39845846920672029]\n",
      "[2016-09-23 20:15:16,200] [DEBUG] Finished epoch 420. (Avg. training loss: 0.5999769731)\n",
      "[2016-09-23 20:15:16,921] [DEBUG] Evaluation (precision, recall, f1): [0.41091924990862494, 0.47561727946694649, 0.39266820606220787]\n",
      "[2016-09-23 20:15:45,369] [DEBUG] Finished epoch 430. (Avg. training loss: 0.593042500994)\n",
      "[2016-09-23 20:15:46,082] [DEBUG] Evaluation (precision, recall, f1): [0.40790812600485638, 0.4787731045010673, 0.38971641854386863]\n",
      "[2016-09-23 20:16:14,625] [DEBUG] Finished epoch 440. (Avg. training loss: 0.581492912702)\n",
      "[2016-09-23 20:16:15,392] [DEBUG] Evaluation (precision, recall, f1): [0.41055770552465637, 0.48200376177467164, 0.39672335659933594]\n",
      "[2016-09-23 20:16:44,315] [DEBUG] Finished epoch 450. (Avg. training loss: 0.579869410531)\n",
      "[2016-09-23 20:16:45,035] [DEBUG] Evaluation (precision, recall, f1): [0.40765469292727169, 0.4819014076333713, 0.39459212209469646]\n",
      "[2016-09-23 20:17:13,623] [DEBUG] Finished epoch 460. (Avg. training loss: 0.572246519849)\n",
      "[2016-09-23 20:17:14,336] [DEBUG] Evaluation (precision, recall, f1): [0.41346144746470787, 0.48666069880790452, 0.39340646310916583]\n",
      "[2016-09-23 20:17:42,634] [DEBUG] Finished epoch 470. (Avg. training loss: 0.574589716101)\n",
      "[2016-09-23 20:17:43,393] [DEBUG] Evaluation (precision, recall, f1): [0.41854541602659773, 0.48701169245745413, 0.40014688276570515]\n",
      "[2016-09-23 20:18:11,837] [DEBUG] Finished epoch 480. (Avg. training loss: 0.570726177232)\n",
      "[2016-09-23 20:18:12,555] [DEBUG] Evaluation (precision, recall, f1): [0.41541762463358145, 0.48343182950032459, 0.39346705570545931]\n",
      "[2016-09-23 20:18:40,998] [DEBUG] Finished epoch 490. (Avg. training loss: 0.5726204567)\n",
      "[2016-09-23 20:18:41,770] [DEBUG] Evaluation (precision, recall, f1): [0.41831241588321028, 0.48913500822223593, 0.40104353308581514]\n"
     ]
    }
   ],
   "source": [
    "logger.info(\"Starting training phase.\")\n",
    "mid_eval = (fetches, feed_dict, truth) if args.verbose_eval else None\n",
    "train(sess, model, args.num_epochs, train_dataset, args.batch_size, args.epoch_verbosity, mid_eval=mid_eval) #, train_dataset, wv_model, test_dataset=test_dataset, epoch_verbosity_rate=100)"
   ]
  },
  {
   "cell_type": "code",
   "execution_count": 10,
   "metadata": {
    "collapsed": false
   },
   "outputs": [
    {
     "name": "stderr",
     "output_type": "stream",
     "text": [
      "[2016-09-23 20:19:07,304] [INFO] Starting evaluation phase.\n",
      "[2016-09-23 20:19:08,019] [DEBUG] Evaluation (precision, recall, f1): [0.41943290284567158, 0.48279578181373967, 0.39634839328708843]\n"
     ]
    },
    {
     "data": {
      "text/plain": [
       "[0.41943290284567158, 0.48279578181373967, 0.39634839328708843]"
      ]
     },
     "execution_count": 10,
     "metadata": {},
     "output_type": "execute_result"
    }
   ],
   "source": [
    "logger.info(\"Starting evaluation phase.\")\n",
    "evaluate(sess, model, fetches, feed_dict, truth)"
   ]
  },
  {
   "cell_type": "code",
   "execution_count": 11,
   "metadata": {
    "collapsed": false
   },
   "outputs": [
    {
     "name": "stdout",
     "output_type": "stream",
     "text": [
      " pre-allocate, for-loop on text features\n",
      "[2016-09-20 18:19:06,785] [INFO] Preparing test_dataset.\n",
      "[2016-09-20 18:19:06,786] [INFO] Allocating space for matrices.\n",
      "[2016-09-20 18:19:38,713] [INFO] Done allocating.\n",
      "[2016-09-20 18:19:38,715] [INFO] Starting prep_predict loop.\n",
      "[2016-09-20 18:19:38,771] [INFO] 0 of 5052092 completed (prep_predict).\n",
      "[2016-09-20 18:20:45,936] [INFO] 500000 of 5052092 completed (prep_predict).\n",
      "[2016-09-20 18:21:52,126] [INFO] 1000000 of 5052092 completed (prep_predict).\n",
      "[2016-09-20 18:23:00,177] [INFO] 1500000 of 5052092 completed (prep_predict).\n",
      "[2016-09-20 18:24:07,410] [INFO] 2000000 of 5052092 completed (prep_predict).\n",
      "[2016-09-20 18:25:14,794] [INFO] 2500000 of 5052092 completed (prep_predict).\n",
      "[2016-09-20 18:26:21,566] [INFO] 3000000 of 5052092 completed (prep_predict).\n",
      "[2016-09-20 18:27:28,465] [INFO] 3500000 of 5052092 completed (prep_predict).\n",
      "[2016-09-20 18:28:48,673] [INFO] 4000000 of 5052092 completed (prep_predict).\n",
      "[2016-09-20 18:30:54,054] [INFO] 4500000 of 5052092 completed (prep_predict).\n",
      "[2016-09-20 18:33:12,869] [INFO] 5000000 of 5052092 completed (prep_predict).\n",
      "\n",
      "\n",
      "\n"
     ]
    }
   ],
   "source": [
    "print \"\"\" pre-allocate, for-loop on text features\n",
    "[2016-09-20 18:19:06,785] [INFO] Preparing test_dataset.\n",
    "[2016-09-20 18:19:06,786] [INFO] Allocating space for matrices.\n",
    "[2016-09-20 18:19:38,713] [INFO] Done allocating.\n",
    "[2016-09-20 18:19:38,715] [INFO] Starting prep_predict loop.\n",
    "[2016-09-20 18:19:38,771] [INFO] 0 of 5052092 completed (prep_predict).\n",
    "[2016-09-20 18:20:45,936] [INFO] 500000 of 5052092 completed (prep_predict).\n",
    "[2016-09-20 18:21:52,126] [INFO] 1000000 of 5052092 completed (prep_predict).\n",
    "[2016-09-20 18:23:00,177] [INFO] 1500000 of 5052092 completed (prep_predict).\n",
    "[2016-09-20 18:24:07,410] [INFO] 2000000 of 5052092 completed (prep_predict).\n",
    "[2016-09-20 18:25:14,794] [INFO] 2500000 of 5052092 completed (prep_predict).\n",
    "[2016-09-20 18:26:21,566] [INFO] 3000000 of 5052092 completed (prep_predict).\n",
    "[2016-09-20 18:27:28,465] [INFO] 3500000 of 5052092 completed (prep_predict).\n",
    "[2016-09-20 18:28:48,673] [INFO] 4000000 of 5052092 completed (prep_predict).\n",
    "[2016-09-20 18:30:54,054] [INFO] 4500000 of 5052092 completed (prep_predict).\n",
    "[2016-09-20 18:33:12,869] [INFO] 5000000 of 5052092 completed (prep_predict).\n",
    "\n",
    "\n",
    "\"\"\""
   ]
  },
  {
   "cell_type": "code",
   "execution_count": 12,
   "metadata": {
    "collapsed": false
   },
   "outputs": [
    {
     "name": "stdout",
     "output_type": "stream",
     "text": [
      "time comparison:\n",
      "loading driver=None:\n",
      "[2016-09-19 19:36:15,041] [INFO] Parsing train and test datasets.\n",
      "[2016-09-19 19:36:15,042] [INFO] Loading image features...\n",
      "[2016-09-19 19:36:15,043] [INFO] Reading h5py file.\n",
      "[2016-09-19 19:36:15,044] [INFO] Loading image feats.\n",
      "[2016-09-19 19:39:46,185] [INFO] Elapsed time: 211.141229868\n",
      "[2016-09-19 19:39:46,187] [INFO] Getting length of first feature vector.\n",
      "[2016-09-19 19:39:46,188] [INFO] Num images: 9748229\n",
      "[2016-09-19 19:39:46,188] [INFO] Loading text features...\n",
      "[2016-09-19 19:39:46,189] [INFO] Loading json from file (timing).\n",
      "[2016-09-19 19:40:41,631] [INFO] Time elapsed: 55.441298008\n",
      "\n",
      "[2016-09-19 20:58:09,687] [INFO] Parsing train and test datasets.\n",
      "[2016-09-19 20:58:09,688] [INFO] Loading image features...\n",
      "[2016-09-19 20:58:09,689] [INFO] Reading h5py file.\n",
      "[2016-09-19 20:58:09,690] [INFO] Loading image feats.\n",
      "[2016-09-19 21:08:34,432] [INFO] Elapsed time: 624.742087841\n",
      "[2016-09-19 21:08:34,434] [INFO] Getting length of first feature vector.\n",
      "[2016-09-19 21:08:34,435] [INFO] Num images: 9748229\n",
      "[2016-09-19 21:08:34,436] [INFO] Loading text features...\n",
      "[2016-09-19 21:08:34,436] [INFO] Loading json from file (timing).\n",
      "[2016-09-19 21:09:40,966] [INFO] Time elapsed: 66.5285241604\n",
      "\n",
      "inception\n",
      "[2016-09-19 21:55:28,575] [INFO] Parsing train and test datasets.\n",
      "[2016-09-19 21:55:28,576] [INFO] Loading image features...\n",
      "[2016-09-19 21:55:28,576] [INFO] Reading h5py file.\n",
      "[2016-09-19 21:55:28,578] [INFO] Loading image feats.\n",
      "[2016-09-19 22:02:41,962] [INFO] Elapsed time: 433.384609938\n",
      "[2016-09-19 22:02:41,965] [INFO] Getting length of first feature vector.\n",
      "[2016-09-19 22:02:41,966] [INFO] Num images: 5052092\n",
      "[2016-09-19 22:02:41,967] [INFO] Loading text features...\n",
      "[2016-09-19 22:02:41,967] [INFO] Loading json from file (timing).\n",
      "[2016-09-19 22:07:11,417] [INFO] Time elapsed: 269.449061871\n",
      "\n",
      "[2016-09-20 17:04:07,657] [INFO] Parsing train and test datasets.\n",
      "[2016-09-20 17:04:07,658] [INFO] Loading image features...\n",
      "[2016-09-20 17:04:07,658] [INFO] Reading h5py file.\n",
      "[2016-09-20 17:04:07,661] [INFO] Loading image feats.\n",
      "[2016-09-20 17:05:40,185] [INFO] Elapsed time: 92.5259859562\n",
      "[2016-09-20 17:05:40,187] [INFO] Getting length of first feature vector.\n",
      "[2016-09-20 17:05:40,187] [INFO] Num images: 5052092\n",
      "[2016-09-20 17:05:40,188] [INFO] Loading text features...\n",
      "[2016-09-20 17:05:40,189] [INFO] Loading json from file (timing).\n",
      "\n",
      "\n"
     ]
    }
   ],
   "source": [
    "print \"\"\"time comparison:\n",
    "loading driver=None:\n",
    "[2016-09-19 19:36:15,041] [INFO] Parsing train and test datasets.\n",
    "[2016-09-19 19:36:15,042] [INFO] Loading image features...\n",
    "[2016-09-19 19:36:15,043] [INFO] Reading h5py file.\n",
    "[2016-09-19 19:36:15,044] [INFO] Loading image feats.\n",
    "[2016-09-19 19:39:46,185] [INFO] Elapsed time: 211.141229868\n",
    "[2016-09-19 19:39:46,187] [INFO] Getting length of first feature vector.\n",
    "[2016-09-19 19:39:46,188] [INFO] Num images: 9748229\n",
    "[2016-09-19 19:39:46,188] [INFO] Loading text features...\n",
    "[2016-09-19 19:39:46,189] [INFO] Loading json from file (timing).\n",
    "[2016-09-19 19:40:41,631] [INFO] Time elapsed: 55.441298008\n",
    "\n",
    "[2016-09-19 20:58:09,687] [INFO] Parsing train and test datasets.\n",
    "[2016-09-19 20:58:09,688] [INFO] Loading image features...\n",
    "[2016-09-19 20:58:09,689] [INFO] Reading h5py file.\n",
    "[2016-09-19 20:58:09,690] [INFO] Loading image feats.\n",
    "[2016-09-19 21:08:34,432] [INFO] Elapsed time: 624.742087841\n",
    "[2016-09-19 21:08:34,434] [INFO] Getting length of first feature vector.\n",
    "[2016-09-19 21:08:34,435] [INFO] Num images: 9748229\n",
    "[2016-09-19 21:08:34,436] [INFO] Loading text features...\n",
    "[2016-09-19 21:08:34,436] [INFO] Loading json from file (timing).\n",
    "[2016-09-19 21:09:40,966] [INFO] Time elapsed: 66.5285241604\n",
    "\n",
    "inception\n",
    "[2016-09-19 21:55:28,575] [INFO] Parsing train and test datasets.\n",
    "[2016-09-19 21:55:28,576] [INFO] Loading image features...\n",
    "[2016-09-19 21:55:28,576] [INFO] Reading h5py file.\n",
    "[2016-09-19 21:55:28,578] [INFO] Loading image feats.\n",
    "[2016-09-19 22:02:41,962] [INFO] Elapsed time: 433.384609938\n",
    "[2016-09-19 22:02:41,965] [INFO] Getting length of first feature vector.\n",
    "[2016-09-19 22:02:41,966] [INFO] Num images: 5052092\n",
    "[2016-09-19 22:02:41,967] [INFO] Loading text features...\n",
    "[2016-09-19 22:02:41,967] [INFO] Loading json from file (timing).\n",
    "[2016-09-19 22:07:11,417] [INFO] Time elapsed: 269.449061871\n",
    "\n",
    "[2016-09-20 17:04:07,657] [INFO] Parsing train and test datasets.\n",
    "[2016-09-20 17:04:07,658] [INFO] Loading image features...\n",
    "[2016-09-20 17:04:07,658] [INFO] Reading h5py file.\n",
    "[2016-09-20 17:04:07,661] [INFO] Loading image feats.\n",
    "[2016-09-20 17:05:40,185] [INFO] Elapsed time: 92.5259859562\n",
    "[2016-09-20 17:05:40,187] [INFO] Getting length of first feature vector.\n",
    "[2016-09-20 17:05:40,187] [INFO] Num images: 5052092\n",
    "[2016-09-20 17:05:40,188] [INFO] Loading text features...\n",
    "[2016-09-20 17:05:40,189] [INFO] Loading json from file (timing).\n",
    "\n",
    "\"\"\""
   ]
  }
 ],
 "metadata": {
  "kernelspec": {
   "display_name": "Python 2",
   "language": "python",
   "name": "python2"
  },
  "language_info": {
   "codemirror_mode": {
    "name": "ipython",
    "version": 2
   },
   "file_extension": ".py",
   "mimetype": "text/x-python",
   "name": "python",
   "nbconvert_exporter": "python",
   "pygments_lexer": "ipython2",
   "version": "2.7.12"
  }
 },
 "nbformat": 4,
 "nbformat_minor": 0
}
